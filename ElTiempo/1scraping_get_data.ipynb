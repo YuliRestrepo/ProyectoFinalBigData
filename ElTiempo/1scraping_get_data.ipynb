{
 "cells": [
  {
   "cell_type": "code",
   "execution_count": 1,
   "metadata": {},
   "outputs": [],
   "source": [
    "from bs4 import BeautifulSoup\n",
    "import requests"
   ]
  },
  {
   "cell_type": "code",
   "execution_count": 2,
   "metadata": {},
   "outputs": [],
   "source": [
    "start_url = 'https://www.eltiempo.com/tecnosfera/'"
   ]
  },
  {
   "cell_type": "code",
   "execution_count": 3,
   "metadata": {},
   "outputs": [],
   "source": [
    "def get_soup(url):\n",
    "    content =requests.get(url).content\n",
    "    return BeautifulSoup(content, 'lxml')"
   ]
  },
  {
   "cell_type": "code",
   "execution_count": 4,
   "metadata": {},
   "outputs": [],
   "source": [
    "def extract_articles(url=start_url):\n",
    "    soup = get_soup(url)\n",
    "    p_tags = soup.findAll('div')\n",
    "    a_tags = []\n",
    "    for p_tag in p_tags:\n",
    "        a_tags.extend(p_tag.select('article meta'))\n",
    "        \n",
    "    a_tags = [a_tag for a_tag in a_tags if 'itemid' in a_tag.attrs]\n",
    "    links = [a_tag.get('itemid') for a_tag in a_tags]\n",
    "    return links"
   ]
  },
  {
   "cell_type": "code",
   "execution_count": 5,
   "metadata": {},
   "outputs": [],
   "source": [
    "def extract_noticias(url):\n",
    "    soup = get_soup(url)\n",
    "    soup.get_text()\n",
    "    titulo = soup.find('h1').text\n",
    "    articulos = soup.findAll('p', {'class':'contenido'})\n",
    "    #print(titulo, articulos)\n",
    "    return titulo, articulos"
   ]
  },
  {
   "cell_type": "code",
   "execution_count": 6,
   "metadata": {},
   "outputs": [],
   "source": [
    "if __name__ == '__main__':\n",
    "    ext_links = extract_articles(start_url)\n",
    "    \n",
    "    with open('noticias_links.txt','w') as f:\n",
    "        for item in ext_links:\n",
    "            f.write(item + '\\n')\n",
    "    \n",
    "    noticias = []\n",
    "    \n",
    "    #for noti in ext_links:\n",
    "     #   contenido,titulo=extract_noticias(noti)\n",
    "      #  print(contenido)\n",
    "    \n",
    "    with open('noticias_tecnologia.txt', 'w', encoding='utf-8-sig') as f:\n",
    "        for noti in ext_links:\n",
    "            titulo,contenido=extract_noticias(noti)\n",
    "            f.write(str(titulo) + str(contenido) + '\\n')"
   ]
  },
  {
   "cell_type": "code",
   "execution_count": null,
   "metadata": {},
   "outputs": [],
   "source": []
  }
 ],
 "metadata": {
  "kernelspec": {
   "display_name": "Python 3",
   "language": "python",
   "name": "python3"
  },
  "language_info": {
   "codemirror_mode": {
    "name": "ipython",
    "version": 3
   },
   "file_extension": ".py",
   "mimetype": "text/x-python",
   "name": "python",
   "nbconvert_exporter": "python",
   "pygments_lexer": "ipython3",
   "version": "3.7.6"
  }
 },
 "nbformat": 4,
 "nbformat_minor": 4
}
