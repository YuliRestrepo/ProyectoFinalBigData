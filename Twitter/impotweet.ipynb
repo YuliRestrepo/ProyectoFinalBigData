{
 "cells": [
  {
   "cell_type": "code",
   "execution_count": 1,
   "metadata": {},
   "outputs": [],
   "source": [
    "import spacy\n",
    "from spacy.lang.es import Spanish\n",
    "from spacy.lang.en import English\n",
    "from nltk import SnowballStemmer\n",
    "from tqdm import tqdm\n",
    "\n",
    "\n"
   ]
  },
  {
   "cell_type": "code",
   "execution_count": null,
   "metadata": {},
   "outputs": [],
   "source": [
    "#!/usr/bin/env python\n",
    "# -*- coding: utf-8 -*-\n",
    "import sys\n",
    "import tweepy\n",
    "import pandas as pd\n",
    "import csv\n",
    "import unicodedata\n",
    "import re \n",
    "import string\n",
    "import preprocessor as p\n",
    "import nltk\n",
    "from nltk.corpus import stopwords \n",
    "from nltk.tokenize import word_tokenize \n",
    "\n",
    "\n",
    "def proper_encoding(text):\n",
    "    try:\n",
    "        text = unicodedata.normalize('NFD', text)\n",
    "        text = text.encode('ascii', 'ignore')\n",
    "        result = text.decode(\"utf-8\")\n",
    "        return result\n",
    "    except Exception as e:\n",
    "        print('Error proper_encoding: {0}'.format(e))\n",
    "        return None\n",
    "    \n",
    "consumer_key = 'ere0mCleGWaI9sd6ntyzdNNPp'\n",
    "consumer_secret = 'zugrqR2sEZyVHqHxb6gZrJTtQznQUzZuEDFbWN0lRwT5Q67J3P'\n",
    "access_key= '3669085457-OIdnhJEFaj7nbJGcebkX0CEiKAgqhMo7AwbvVpt'\n",
    "access_secret = 'F4jfndv95f3KERubsYJMhuwwGaBUR68q8FhqUDcUGy7pX'\n",
    "\n",
    "auth = tweepy.OAuthHandler(consumer_key, consumer_secret)\n",
    "auth.set_access_token(access_key, access_secret)\n",
    " \n",
    "api = tweepy.API(auth,wait_on_rate_limit=True)\n",
    "\n",
    "    \n",
    "csvFile = open('what.csv', 'a')\n",
    "csvWriter = csv.writer(csvFile)\n",
    " \n",
    "search_words = \"#tecnologia\"      # enter your words\n",
    "new_search = search_words + \" -filter:retweets\"\n",
    " \n",
    "for tweet in tweepy.Cursor(api.search,q=new_search,count=1000,\n",
    "                           lang=\"es\", geo='-81.728111,-4.2304,-66.869827,13.39029',\n",
    "                           since_id=0).items():\n",
    "    csvWriter.writerow([proper_encoding(tweet.text)])"
   ]
  },
  {
   "cell_type": "code",
   "execution_count": null,
   "metadata": {},
   "outputs": [],
   "source": []
  }
 ],
 "metadata": {
  "kernelspec": {
   "display_name": "Python 3",
   "language": "python",
   "name": "python3"
  },
  "language_info": {
   "codemirror_mode": {
    "name": "ipython",
    "version": 3
   },
   "file_extension": ".py",
   "mimetype": "text/x-python",
   "name": "python",
   "nbconvert_exporter": "python",
   "pygments_lexer": "ipython3",
   "version": "3.7.4"
  }
 },
 "nbformat": 4,
 "nbformat_minor": 4
}
